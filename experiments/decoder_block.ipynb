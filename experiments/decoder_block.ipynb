{
 "cells": [
  {
   "cell_type": "code",
   "execution_count": 6,
   "metadata": {},
   "outputs": [],
   "source": [
    "import torch\n",
    "import torch.nn as nn\n",
    "import torch.optim as optim\n",
    "from tqdm import tqdm\n",
    "from torch.optim import lr_scheduler\n",
    "from torch.utils.data import DataLoader\n",
    "from torchvision.transforms import transforms\n",
    "from torchvision.datasets import svhn\n",
    "import numpy as np\n",
    "import matplotlib.pyplot as plt"
   ]
  },
  {
   "cell_type": "code",
   "execution_count": 21,
   "metadata": {},
   "outputs": [],
   "source": [
    "class Decoder_Block(nn.Module):\n",
    "    def __init__ (self,num_layers=2,initial_filter=1024):\n",
    "        super(Decoder_Block,self).__init__()\n",
    "        self.relu = nn.ReLU()\n",
    "        self.layers = []\n",
    "        out_channel = initial_filter//2\n",
    "        for i in range(num_layers):\n",
    "            self.layers.append(nn.Conv2d(initial_filter,out_channel,kernel_size=3,padding=1))\n",
    "            self.layers.append(nn.ReLU())\n",
    "            initial_filter = out_channel\n",
    "        self.block = nn.Sequential(*self.layers)\n",
    "\n",
    "    def forward(self,x):\n",
    "        x = self.block(x)\n",
    "        print(x.shape)\n",
    "        return x "
   ]
  },
  {
   "cell_type": "code",
   "execution_count": 22,
   "metadata": {},
   "outputs": [
    {
     "name": "stdout",
     "output_type": "stream",
     "text": [
      "Decoder_Block(\n",
      "  (relu): ReLU()\n",
      "  (block): Sequential(\n",
      "    (0): Conv2d(1024, 512, kernel_size=(3, 3), stride=(1, 1), padding=(1, 1))\n",
      "    (1): ReLU()\n",
      "    (2): Conv2d(512, 512, kernel_size=(3, 3), stride=(1, 1), padding=(1, 1))\n",
      "    (3): ReLU()\n",
      "  )\n",
      ")\n",
      "torch.Size([1, 512, 28, 28])\n"
     ]
    },
    {
     "data": {
      "text/plain": [
       "Decoder_Block(\n",
       "  (relu): ReLU()\n",
       "  (block): Sequential(\n",
       "    (0): Conv2d(1024, 512, kernel_size=(3, 3), stride=(1, 1), padding=(1, 1))\n",
       "    (1): ReLU()\n",
       "    (2): Conv2d(512, 512, kernel_size=(3, 3), stride=(1, 1), padding=(1, 1))\n",
       "    (3): ReLU()\n",
       "  )\n",
       ")"
      ]
     },
     "execution_count": 22,
     "metadata": {},
     "output_type": "execute_result"
    }
   ],
   "source": [
    "test_tensor = torch.randn(1, 1024, 28, 28)\n",
    "model = Decoder_Block()\n",
    "print(model)\n",
    "output = model(test_tensor)\n",
    "model"
   ]
  },
  {
   "cell_type": "code",
   "execution_count": 23,
   "metadata": {},
   "outputs": [],
   "source": [
    "class Decoder(nn.Module):\n",
    "    def __init__(self,num_blocks=5,in_channel=1024,final_channel=64):\n",
    "        super(Decoder,self).__init__()\n",
    "        self.blocks = []\n",
    "        for i in reversed(range(1,num_blocks)):\n",
    "            initial_filter = final_channel*(2**(i))\n",
    "            self.blocks.append(Decoder_Block(initial_filter=initial_filter,num_layers=2))\n",
    "            in_channel=initial_filter*2\n",
    "            \n",
    "        self.decoder = nn.Sequential(*self.blocks)\n",
    "    def forward(self,x):\n",
    "        x = self.decoder(x)\n"
   ]
  },
  {
   "cell_type": "code",
   "execution_count": 24,
   "metadata": {},
   "outputs": [
    {
     "name": "stdout",
     "output_type": "stream",
     "text": [
      "torch.Size([1, 512, 28, 28])\n",
      "torch.Size([1, 256, 28, 28])\n",
      "torch.Size([1, 128, 28, 28])\n",
      "torch.Size([1, 64, 28, 28])\n"
     ]
    }
   ],
   "source": [
    "model = Decoder()\n",
    "model(test_tensor)"
   ]
  },
  {
   "cell_type": "code",
   "execution_count": 28,
   "metadata": {},
   "outputs": [
    {
     "ename": "RuntimeError",
     "evalue": "Sizes of tensors must match except in dimension 1. Expected size 56 but got size 28 for tensor number 1 in the list.",
     "output_type": "error",
     "traceback": [
      "\u001b[0;31m---------------------------------------------------------------------------\u001b[0m",
      "\u001b[0;31mRuntimeError\u001b[0m                              Traceback (most recent call last)",
      "Cell \u001b[0;32mIn[28], line 3\u001b[0m\n\u001b[1;32m      1\u001b[0m x \u001b[38;5;241m=\u001b[39m nn\u001b[38;5;241m.\u001b[39mConvTranspose2d(\u001b[38;5;241m1024\u001b[39m,\u001b[38;5;241m512\u001b[39m,\u001b[38;5;241m2\u001b[39m,stride\u001b[38;5;241m=\u001b[39m\u001b[38;5;241m2\u001b[39m)(test_tensor)\n\u001b[1;32m      2\u001b[0m x\u001b[38;5;241m.\u001b[39mshape\n\u001b[0;32m----> 3\u001b[0m \u001b[43mtorch\u001b[49m\u001b[38;5;241;43m.\u001b[39;49m\u001b[43mcat\u001b[49m\u001b[43m(\u001b[49m\u001b[43m[\u001b[49m\u001b[43mx\u001b[49m\u001b[43m,\u001b[49m\u001b[43mtest_tensor\u001b[49m\u001b[43m]\u001b[49m\u001b[43m,\u001b[49m\u001b[43mdim\u001b[49m\u001b[38;5;241;43m=\u001b[39;49m\u001b[38;5;241;43m1\u001b[39;49m\u001b[43m)\u001b[49m\n",
      "\u001b[0;31mRuntimeError\u001b[0m: Sizes of tensors must match except in dimension 1. Expected size 56 but got size 28 for tensor number 1 in the list."
     ]
    }
   ],
   "source": [
    "x = nn.ConvTranspose2d(1024,512,2,stride=2)(test_tensor)\n",
    "x.shape\n",
    "torch.cat([x,test_tensor],dim=1)"
   ]
  },
  {
   "cell_type": "code",
   "execution_count": null,
   "metadata": {},
   "outputs": [],
   "source": []
  }
 ],
 "metadata": {
  "kernelspec": {
   "display_name": "kdsh",
   "language": "python",
   "name": "python3"
  },
  "language_info": {
   "codemirror_mode": {
    "name": "ipython",
    "version": 3
   },
   "file_extension": ".py",
   "mimetype": "text/x-python",
   "name": "python",
   "nbconvert_exporter": "python",
   "pygments_lexer": "ipython3",
   "version": "3.10.15"
  }
 },
 "nbformat": 4,
 "nbformat_minor": 2
}
