{
 "cells": [
  {
   "cell_type": "code",
   "execution_count": 1,
   "metadata": {},
   "outputs": [],
   "source": [
    "import torch\n",
    "import torch.nn as nn\n",
    "import torch.optim as optim\n",
    "from tqdm import tqdm\n",
    "from torch.optim import lr_scheduler\n",
    "from torch.utils.data import DataLoader\n",
    "from torchvision.transforms import transforms\n",
    "from torchvision.datasets import svhn\n",
    "import numpy as np\n",
    "import matplotlib.pyplot as plt"
   ]
  },
  {
   "cell_type": "code",
   "execution_count": 77,
   "metadata": {},
   "outputs": [],
   "source": [
    "class Encoder_Block(nn.Module):\n",
    "    def __init__ (self,num_layers=2,in_channel=3,initial_filter=32):\n",
    "        super(Encoder_Block,self).__init__()\n",
    "        self.relu = nn.ReLU()\n",
    "        self.layers = []\n",
    "        out_channel = initial_filter*2\n",
    "        for i in range(num_layers):\n",
    "            self.layers.append(nn.Conv2d(in_channel,out_channel,kernel_size=3))\n",
    "            self.layers.append(nn.ReLU())\n",
    "            in_channel=out_channel\n",
    "        self.block = nn.Sequential(*self.layers)\n",
    "\n",
    "    def forward(self,x):\n",
    "        x = self.block(x)\n",
    "        print(x.shape)\n",
    "        return x"
   ]
  },
  {
   "cell_type": "code",
   "execution_count": 82,
   "metadata": {},
   "outputs": [],
   "source": [
    "class Encoder(nn.Module):\n",
    "    def __init__(self,num_blocks=5,in_channel=3,final_channel=512):\n",
    "        super(Encoder,self).__init__()\n",
    "        self.blocks = []\n",
    "        for i in reversed(range(num_blocks)):\n",
    "            initial_filter = final_channel//(2**(i))\n",
    "            self.blocks.append(Encoder_Block(in_channel=in_channel,initial_filter=initial_filter,num_layers=2))\n",
    "            if num_blocks-i != num_blocks:\n",
    "                self.blocks.append(nn.MaxPool2d(kernel_size=2))\n",
    "            \n",
    "            in_channel=initial_filter*2\n",
    "            \n",
    "        self.encoder = nn.Sequential(*self.blocks)\n",
    "    def forward(self,x):\n",
    "        x = self.encoder(x)\n"
   ]
  },
  {
   "cell_type": "code",
   "execution_count": 83,
   "metadata": {},
   "outputs": [
    {
     "name": "stdout",
     "output_type": "stream",
     "text": [
      "torch.Size([1, 64, 568, 568])\n"
     ]
    },
    {
     "data": {
      "text/plain": [
       "Encoder_Block(\n",
       "  (relu): ReLU()\n",
       "  (block): Sequential(\n",
       "    (0): Conv2d(3, 64, kernel_size=(3, 3), stride=(1, 1))\n",
       "    (1): ReLU()\n",
       "    (2): Conv2d(64, 64, kernel_size=(3, 3), stride=(1, 1))\n",
       "    (3): ReLU()\n",
       "  )\n",
       ")"
      ]
     },
     "execution_count": 83,
     "metadata": {},
     "output_type": "execute_result"
    }
   ],
   "source": [
    "test_tensor = torch.randn(1, 3, 572, 572)\n",
    "model = Encoder_Block(2)\n",
    "output = model(test_tensor)\n",
    "model"
   ]
  },
  {
   "cell_type": "code",
   "execution_count": 84,
   "metadata": {},
   "outputs": [
    {
     "name": "stdout",
     "output_type": "stream",
     "text": [
      "torch.Size([1, 64, 568, 568])\n",
      "torch.Size([1, 128, 280, 280])\n",
      "torch.Size([1, 256, 136, 136])\n",
      "torch.Size([1, 512, 64, 64])\n",
      "torch.Size([1, 1024, 28, 28])\n",
      "Encoder(\n",
      "  (encoder): Sequential(\n",
      "    (0): Encoder_Block(\n",
      "      (relu): ReLU()\n",
      "      (block): Sequential(\n",
      "        (0): Conv2d(3, 64, kernel_size=(3, 3), stride=(1, 1))\n",
      "        (1): ReLU()\n",
      "        (2): Conv2d(64, 64, kernel_size=(3, 3), stride=(1, 1))\n",
      "        (3): ReLU()\n",
      "      )\n",
      "    )\n",
      "    (1): MaxPool2d(kernel_size=2, stride=2, padding=0, dilation=1, ceil_mode=False)\n",
      "    (2): Encoder_Block(\n",
      "      (relu): ReLU()\n",
      "      (block): Sequential(\n",
      "        (0): Conv2d(64, 128, kernel_size=(3, 3), stride=(1, 1))\n",
      "        (1): ReLU()\n",
      "        (2): Conv2d(128, 128, kernel_size=(3, 3), stride=(1, 1))\n",
      "        (3): ReLU()\n",
      "      )\n",
      "    )\n",
      "    (3): MaxPool2d(kernel_size=2, stride=2, padding=0, dilation=1, ceil_mode=False)\n",
      "    (4): Encoder_Block(\n",
      "      (relu): ReLU()\n",
      "      (block): Sequential(\n",
      "        (0): Conv2d(128, 256, kernel_size=(3, 3), stride=(1, 1))\n",
      "        (1): ReLU()\n",
      "        (2): Conv2d(256, 256, kernel_size=(3, 3), stride=(1, 1))\n",
      "        (3): ReLU()\n",
      "      )\n",
      "    )\n",
      "    (5): MaxPool2d(kernel_size=2, stride=2, padding=0, dilation=1, ceil_mode=False)\n",
      "    (6): Encoder_Block(\n",
      "      (relu): ReLU()\n",
      "      (block): Sequential(\n",
      "        (0): Conv2d(256, 512, kernel_size=(3, 3), stride=(1, 1))\n",
      "        (1): ReLU()\n",
      "        (2): Conv2d(512, 512, kernel_size=(3, 3), stride=(1, 1))\n",
      "        (3): ReLU()\n",
      "      )\n",
      "    )\n",
      "    (7): MaxPool2d(kernel_size=2, stride=2, padding=0, dilation=1, ceil_mode=False)\n",
      "    (8): Encoder_Block(\n",
      "      (relu): ReLU()\n",
      "      (block): Sequential(\n",
      "        (0): Conv2d(512, 1024, kernel_size=(3, 3), stride=(1, 1))\n",
      "        (1): ReLU()\n",
      "        (2): Conv2d(1024, 1024, kernel_size=(3, 3), stride=(1, 1))\n",
      "        (3): ReLU()\n",
      "      )\n",
      "    )\n",
      "  )\n",
      ")\n"
     ]
    }
   ],
   "source": [
    "model = Encoder()\n",
    "out =model(test_tensor)\n",
    "print(model)"
   ]
  },
  {
   "cell_type": "code",
   "execution_count": null,
   "metadata": {},
   "outputs": [],
   "source": []
  }
 ],
 "metadata": {
  "kernelspec": {
   "display_name": "kdsh",
   "language": "python",
   "name": "python3"
  },
  "language_info": {
   "codemirror_mode": {
    "name": "ipython",
    "version": 3
   },
   "file_extension": ".py",
   "mimetype": "text/x-python",
   "name": "python",
   "nbconvert_exporter": "python",
   "pygments_lexer": "ipython3",
   "version": "3.10.15"
  }
 },
 "nbformat": 4,
 "nbformat_minor": 2
}
